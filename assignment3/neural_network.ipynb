{
 "cells": [
  {
   "attachments": {},
   "cell_type": "markdown",
   "metadata": {},
   "source": [
    "# ECE176 Assignment 3: Neural Network in NumPy\n",
    "\n",
    "Use this notebook to build your neural network by implementing the following functions in the python files under `layers` directory:\n",
    "\n",
    "1. `linear.py`\n",
    "2. `relu.py`\n",
    "3. `softmax.py`\n",
    "4. `loss_func.py`\n",
    "\n",
    "You will be testing your 2 layer neural network implementation on a toy dataset.\n",
    "\n",
    "TO SUBMIT: PDF of this notebook with all the required outputs and answers."
   ]
  },
  {
   "cell_type": "code",
   "execution_count": 6,
   "metadata": {},
   "outputs": [
    {
     "name": "stdout",
     "output_type": "stream",
     "text": [
      "The autoreload extension is already loaded. To reload it, use:\n",
      "  %reload_ext autoreload\n"
     ]
    }
   ],
   "source": [
    "# Setup\n",
    "import matplotlib.pyplot as plt\n",
    "import numpy as np\n",
    "\n",
    "from layers.sequential import Sequential\n",
    "from layers.linear import Linear\n",
    "from layers.relu import ReLU\n",
    "from layers.softmax import Softmax\n",
    "from layers.loss_func import CrossEntropyLoss\n",
    "from utils.optimizer import SGD\n",
    "\n",
    "%matplotlib inline\n",
    "plt.rcParams[\"figure.figsize\"] = (10.0, 8.0)  # set default size of plots\n",
    "\n",
    "# For auto-reloading external modules\n",
    "# See http://stackoverflow.com/questions/1907993/autoreload-of-modules-in-ipython\n",
    "%load_ext autoreload\n",
    "%autoreload 2"
   ]
  },
  {
   "cell_type": "markdown",
   "metadata": {},
   "source": [
    "We will use the class Sequential as implemented in the file layers/sequential.py to build a layer by layer model of our neural network. Below we initialize the toy model and the toy random data that you will use to develop your implementation."
   ]
  },
  {
   "cell_type": "code",
   "execution_count": 7,
   "metadata": {},
   "outputs": [],
   "source": [
    "# Create a small net and some toy data to check your implementations.\n",
    "# Note that we set the random seed for repeatable experiments.\n",
    "\n",
    "input_size = 4\n",
    "hidden_size = 10\n",
    "num_classes = 3  # Output\n",
    "num_inputs = 10  # N\n",
    "\n",
    "\n",
    "def init_toy_model():\n",
    "    np.random.seed(0)\n",
    "    l1 = Linear(input_size, hidden_size)\n",
    "    l2 = Linear(hidden_size, num_classes)\n",
    "\n",
    "    r1 = ReLU()\n",
    "    softmax = Softmax()\n",
    "    return Sequential([l1, r1, l2, softmax])\n",
    "\n",
    "\n",
    "def init_toy_data():\n",
    "    np.random.seed(0)\n",
    "    X = 10 * np.random.randn(num_inputs, input_size)\n",
    "    y = np.random.randint(num_classes, size=num_inputs)\n",
    "    # y = np.array([0, 1, 2, 2, 1])\n",
    "    return X, y\n",
    "\n",
    "\n",
    "net = init_toy_model()\n",
    "X, y = init_toy_data()\n"
   ]
  },
  {
   "cell_type": "markdown",
   "metadata": {},
   "source": [
    "### Forward Pass: Compute Scores (20%)\n",
    "Implement the forward functions in Linear, Relu and Softmax layers and get the output by passing our toy data X\n",
    "The output must match the given output scores"
   ]
  },
  {
   "cell_type": "code",
   "execution_count": 8,
   "metadata": {},
   "outputs": [
    {
     "name": "stdout",
     "output_type": "stream",
     "text": [
      "Your scores:\n",
      "[[0.33333514 0.33333826 0.33332661]\n",
      " [0.3333351  0.33333828 0.33332661]\n",
      " [0.3333351  0.33333828 0.33332662]\n",
      " [0.3333351  0.33333828 0.33332662]\n",
      " [0.33333509 0.33333829 0.33332662]\n",
      " [0.33333508 0.33333829 0.33332662]\n",
      " [0.33333511 0.33333828 0.33332661]\n",
      " [0.33333512 0.33333827 0.33332661]\n",
      " [0.33333508 0.33333829 0.33332662]\n",
      " [0.33333511 0.33333828 0.33332662]]\n",
      "\n",
      "correct scores:\n",
      "[[0.33333514 0.33333826 0.33332661]\n",
      " [0.3333351  0.33333828 0.33332661]\n",
      " [0.3333351  0.33333828 0.33332662]\n",
      " [0.3333351  0.33333828 0.33332662]\n",
      " [0.33333509 0.33333829 0.33332662]\n",
      " [0.33333508 0.33333829 0.33332662]\n",
      " [0.33333511 0.33333828 0.33332661]\n",
      " [0.33333512 0.33333827 0.33332661]\n",
      " [0.33333508 0.33333829 0.33332662]\n",
      " [0.33333511 0.33333828 0.33332662]]\n",
      "Difference between your scores and correct scores:\n",
      "8.799388540037256e-08\n"
     ]
    }
   ],
   "source": [
    "scores = net.forward(X)\n",
    "print(\"Your scores:\")\n",
    "print(scores)\n",
    "print()\n",
    "print(\"correct scores:\")\n",
    "correct_scores = np.asarray(\n",
    "    [\n",
    "        [0.33333514, 0.33333826, 0.33332661],\n",
    "        [0.3333351, 0.33333828, 0.33332661],\n",
    "        [0.3333351, 0.33333828, 0.33332662],\n",
    "        [0.3333351, 0.33333828, 0.33332662],\n",
    "        [0.33333509, 0.33333829, 0.33332662],\n",
    "        [0.33333508, 0.33333829, 0.33332662],\n",
    "        [0.33333511, 0.33333828, 0.33332661],\n",
    "        [0.33333512, 0.33333827, 0.33332661],\n",
    "        [0.33333508, 0.33333829, 0.33332662],\n",
    "        [0.33333511, 0.33333828, 0.33332662],\n",
    "    ]\n",
    ")\n",
    "print(correct_scores)\n",
    "\n",
    "# The difference should be very small. We get < 1e-7\n",
    "print(\"Difference between your scores and correct scores:\")\n",
    "print(np.sum(np.abs(scores - correct_scores)))\n"
   ]
  },
  {
   "cell_type": "markdown",
   "metadata": {},
   "source": [
    "### Forward Pass: Compute loss given the output scores from the previous step (10%)\n",
    "Implement the forward function in the loss_func.py file, and output the loss value. The loss value must match the given loss value."
   ]
  },
  {
   "cell_type": "code",
   "execution_count": 9,
   "metadata": {},
   "outputs": [
    {
     "name": "stdout",
     "output_type": "stream",
     "text": [
      "1.098612723362578\n",
      "Difference between your loss and correct loss:\n",
      "0.0\n"
     ]
    }
   ],
   "source": [
    "Loss = CrossEntropyLoss()\n",
    "loss = Loss.forward(scores, y)\n",
    "correct_loss = 1.098612723362578\n",
    "print(loss)\n",
    "# should be very small, we get < 1e-12\n",
    "print(\"Difference between your loss and correct loss:\")\n",
    "print(np.sum(np.abs(loss - correct_loss)))\n"
   ]
  },
  {
   "attachments": {},
   "cell_type": "markdown",
   "metadata": {},
   "source": [
    "### Backward Pass (40%)\n",
    "Implement the rest of the functions in the given files. Specifically, implement the backward function in all the 4 files as mentioned in the files. Note: No backward function in the softmax file, the gradient for softmax is jointly calculated with the cross entropy loss in the loss_func.backward function.\n",
    "\n",
    "You will use the chain rule to calculate gradient individually for each layer. You can assume that this calculated gradeint then is passed to the next layers in a reversed manner due to the Sequential implementation. So all you need to worry about is implementing the gradient for the current layer and multiply it will the incoming gradient (passed to the backward function as dout) to calculate the total gradient for the parameters of that layer.\n",
    "\n",
    "We check the values for these gradients by calculating the difference, it is expected to get difference < 1e-8."
   ]
  },
  {
   "cell_type": "code",
   "execution_count": 10,
   "metadata": {},
   "outputs": [
    {
     "name": "stdout",
     "output_type": "stream",
     "text": [
      "(4, 10)\n",
      "(10,)\n",
      "(10, 3)\n",
      "(3,)\n"
     ]
    }
   ],
   "source": [
    "# No need to edit anything in this block ( 20% of the above 40% )\n",
    "net.backward(Loss.backward())\n",
    "\n",
    "gradients = []\n",
    "for module in net._modules:\n",
    "    for para, grad in zip(module.parameters, module.grads):\n",
    "        assert grad is not None, \"No Gradient\"\n",
    "        # Print gradients of the linear layer\n",
    "        print(grad.shape)\n",
    "        gradients.append(grad)\n",
    "\n",
    "# Check shapes of your gradient. Note that only the linear layer has parameters\n",
    "# (4, 10) -> Layer 1 W\n",
    "# (10,)   -> Layer 1 b\n",
    "# (10, 3) -> Layer 2 W\n",
    "# (3,)    -> Layer 2 b\n"
   ]
  },
  {
   "cell_type": "code",
   "execution_count": 11,
   "metadata": {},
   "outputs": [
    {
     "name": "stdout",
     "output_type": "stream",
     "text": [
      "Difference in Gradient values 7.701916434141324e-09\n"
     ]
    }
   ],
   "source": [
    "# No need to edit anything in this block ( 20% of the above 40% )\n",
    "grad_w1 = np.array(\n",
    "    [\n",
    "        [\n",
    "            -6.24320917e-05,\n",
    "            3.41037180e-06,\n",
    "            -1.69125969e-05,\n",
    "            2.41514079e-05,\n",
    "            3.88697976e-06,\n",
    "            7.63842314e-05,\n",
    "            -8.88925758e-05,\n",
    "            3.34909890e-05,\n",
    "            -1.42758303e-05,\n",
    "            -4.74748560e-06,\n",
    "        ],\n",
    "        [\n",
    "            -7.16182867e-05,\n",
    "            4.63270039e-06,\n",
    "            -2.20344270e-05,\n",
    "            -2.72027034e-06,\n",
    "            6.52903437e-07,\n",
    "            8.97294847e-05,\n",
    "            -1.05981609e-04,\n",
    "            4.15825391e-05,\n",
    "            -2.12210745e-05,\n",
    "            3.06061658e-05,\n",
    "        ],\n",
    "        [\n",
    "            -1.69074923e-05,\n",
    "            -8.83185056e-06,\n",
    "            3.10730840e-05,\n",
    "            1.23010428e-05,\n",
    "            5.25830316e-05,\n",
    "            -7.82980115e-06,\n",
    "            3.02117990e-05,\n",
    "            -3.37645284e-05,\n",
    "            6.17276346e-05,\n",
    "            -1.10735656e-05,\n",
    "        ],\n",
    "        [\n",
    "            -4.35902272e-05,\n",
    "            3.71512704e-06,\n",
    "            -1.66837877e-05,\n",
    "            2.54069557e-06,\n",
    "            -4.33258099e-06,\n",
    "            5.72310022e-05,\n",
    "            -6.94881762e-05,\n",
    "            2.92408329e-05,\n",
    "            -1.89369767e-05,\n",
    "            2.01692516e-05,\n",
    "        ],\n",
    "    ]\n",
    ")\n",
    "grad_b1 = np.array(\n",
    "    [\n",
    "        -2.27150209e-06,\n",
    "        5.14674340e-07,\n",
    "        -2.04284403e-06,\n",
    "        6.08849787e-07,\n",
    "        -1.92177796e-06,\n",
    "        3.92085824e-06,\n",
    "        -5.40772636e-06,\n",
    "        2.93354593e-06,\n",
    "        -3.14568138e-06,\n",
    "        5.27501592e-11,\n",
    "    ]\n",
    ")\n",
    "\n",
    "grad_w2 = np.array(\n",
    "    [\n",
    "        [1.28932983e-04, 1.19946731e-04, -2.48879714e-04],\n",
    "        [1.08784150e-04, 1.55140199e-04, -2.63924349e-04],\n",
    "        [6.96017544e-05, 1.42748410e-04, -2.12350164e-04],\n",
    "        [9.92512487e-05, 1.73257611e-04, -2.72508860e-04],\n",
    "        [2.05484895e-05, 4.96161144e-05, -7.01646039e-05],\n",
    "        [8.20539510e-05, 9.37063861e-05, -1.75760337e-04],\n",
    "        [2.45831715e-05, 8.74369112e-05, -1.12020083e-04],\n",
    "        [1.34073379e-04, 1.86253064e-04, -3.20326443e-04],\n",
    "        [8.86473128e-05, 2.35554414e-04, -3.24201726e-04],\n",
    "        [3.57433149e-05, 1.91164061e-04, -2.26907376e-04],\n",
    "    ]\n",
    ")\n",
    "\n",
    "grad_b2 = np.array([-0.1666649, 0.13333828, 0.03332662])\n",
    "\n",
    "difference = (\n",
    "    np.sum(np.abs(gradients[0] - grad_w1))\n",
    "    + np.sum(np.abs(gradients[1] - grad_b1))\n",
    "    + np.sum(np.abs(gradients[2] - grad_w2))\n",
    "    + np.sum(np.abs(gradients[3] - grad_b2))\n",
    ")\n",
    "print(\"Difference in Gradient values\", difference)\n"
   ]
  },
  {
   "cell_type": "markdown",
   "metadata": {},
   "source": [
    "## Train the complete network on the toy data. (29%)\n",
    "\n",
    "To train the network we will use stochastic gradient descent (SGD), we have implemented the optimizer for you. You do not implement any more functions in the python files. Below we implement the training procedure, you should get yourself familiar with the training process. Specifically looking at which functions to call and when.\n",
    "\n",
    "Once you have implemented the method and tested various parts in the above blocks, run the code below to train a two-layer network on toy data. You should see your training loss decrease below 0.01."
   ]
  },
  {
   "cell_type": "code",
   "execution_count": 12,
   "metadata": {},
   "outputs": [
    {
     "name": "stdout",
     "output_type": "stream",
     "text": [
      "Epoch 50, loss=0.832701\n",
      "Epoch 100, loss=0.454641\n",
      "Epoch 150, loss=0.121891\n",
      "Epoch 200, loss=0.056454\n",
      "Epoch 250, loss=0.038117\n",
      "Epoch 300, loss=0.029515\n",
      "Epoch 350, loss=0.024326\n",
      "Epoch 400, loss=0.020783\n",
      "Epoch 450, loss=0.017919\n",
      "Epoch 500, loss=0.015807\n",
      "Epoch 550, loss=0.014186\n",
      "Epoch 600, loss=0.012900\n",
      "Epoch 650, loss=0.011823\n",
      "Epoch 700, loss=0.010931\n",
      "Epoch 750, loss=0.010168\n",
      "Epoch 800, loss=0.009524\n",
      "Epoch 850, loss=0.008952\n",
      "Epoch 900, loss=0.008441\n",
      "Epoch 950, loss=0.007991\n",
      "Epoch 1000, loss=0.007573\n"
     ]
    }
   ],
   "source": [
    "# Training Procedure\n",
    "# Initialize the optimizer. DO NOT change any of the hyper-parameters here or above.\n",
    "# We have implemented the SGD optimizer class for you here, which visits each layer sequentially to\n",
    "# get the gradients and optimize the respective parameters.\n",
    "# You should work with the given parameters and only edit your implementation in the .py files\n",
    "\n",
    "epochs = 1000\n",
    "optim = SGD(net, lr=0.1, weight_decay=0.0000001)\n",
    "\n",
    "epoch_loss = []\n",
    "for epoch in range(epochs):\n",
    "    # Get output scores from the network\n",
    "    output_x = net(X)\n",
    "    # Calculate the loss for these output scores, given the true labels\n",
    "    loss = Loss.forward(output_x, y)\n",
    "    # Initialize your gradients to None in each epoch\n",
    "    optim.zero_grad()\n",
    "    # Make a backward pass to update the internal gradients in the layers\n",
    "    net.backward(Loss.backward())\n",
    "    # call the step function in the optimizer to update the values of the params with the gradients\n",
    "    optim.step()\n",
    "    # Append the loss at each iteration\n",
    "    epoch_loss.append(loss)\n",
    "\n",
    "    if (epoch + 1) % 50 == 0:\n",
    "        print(\"Epoch {}, loss={:3f}\".format(epoch + 1, epoch_loss[-1]))\n"
   ]
  },
  {
   "cell_type": "code",
   "execution_count": 13,
   "metadata": {},
   "outputs": [
    {
     "name": "stdout",
     "output_type": "stream",
     "text": [
      "[2 1 0 1 2 0 0 2 0 0]\n",
      "[2 1 0 1 2 0 0 2 0 0]\n"
     ]
    }
   ],
   "source": [
    "# Test your predictions. The predictions must match the labels\n",
    "print(net.predict(X))\n",
    "print(y)\n"
   ]
  },
  {
   "cell_type": "code",
   "execution_count": 14,
   "metadata": {},
   "outputs": [
    {
     "name": "stdout",
     "output_type": "stream",
     "text": [
      "Final training loss 0.00757329771150077\n"
     ]
    }
   ],
   "source": [
    "# You should be able to achieve a training loss of less than 0.02 (10%)\n",
    "print(\"Final training loss\", epoch_loss[-1])\n"
   ]
  },
  {
   "cell_type": "code",
   "execution_count": 15,
   "metadata": {},
   "outputs": [
    {
     "data": {
      "text/plain": [
       "Text(0, 0.5, 'Loss')"
      ]
     },
     "execution_count": 15,
     "metadata": {},
     "output_type": "execute_result"
    },
    {
     "data": {
      "image/png": "[encoded data removed]",
      "text/plain": [
       "<Figure size 1000x800 with 1 Axes>"
      ]
     },
     "metadata": {},
     "output_type": "display_data"
    }
   ],
   "source": [
    "# Plot the training loss curve. The loss in the curve should be decreasing (20%)\n",
    "plt.plot(epoch_loss)\n",
    "plt.title(\"Loss history\")\n",
    "plt.xlabel(\"Iteration\")\n",
    "plt.ylabel(\"Loss\")\n"
   ]
  },
  {
   "cell_type": "markdown",
   "metadata": {},
   "source": [
    "## Survey (1%)\n",
    "\n",
    "### Question:\n",
    "\n",
    "How many hours did you spend on this assignment?\n",
    "\n",
    "### Your Answer: 6 Hours."
   ]
  },
  {
   "cell_type": "markdown",
   "metadata": {},
   "source": []
  }
 ],
 "metadata": {
  "kernelspec": {
   "display_name": "Python 3",
   "language": "python",
   "name": "python3"
  },
  "language_info": {
   "codemirror_mode": {
    "name": "ipython",
    "version": 3
   },
   "file_extension": ".py",
   "mimetype": "text/x-python",
   "name": "python",
   "nbconvert_exporter": "python",
   "pygments_lexer": "ipython3",
   "version": "3.11.4"
  }
 },
 "nbformat": 4,
 "nbformat_minor": 4
}
